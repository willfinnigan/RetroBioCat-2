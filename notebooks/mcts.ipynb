{
 "cells": [
  {
   "cell_type": "code",
   "execution_count": 1,
   "id": "da511ea3-d4ba-463a-b422-7157f75f66da",
   "metadata": {},
   "outputs": [
    {
     "name": "stderr",
     "output_type": "stream",
     "text": [
      "RDChiralApplicator - WARNING - Rdchiral rule applicator: Error running reactants for: ([C:1]/[C:2]=[C:3]/[CH;D2;+0:4]=[O;H0;D1;+0:5])>>([C:1]/[C:2]=[C:3]/[CH2;D2;+0:4]-[OH;D1;+0:5])\n",
      "RDChiralApplicator - WARNING - rdkit.Chem.rdchem.BondDir.NONE\n",
      "RDChiralApplicator - WARNING - Rdchiral rule applicator: Error running reactants for: ([C:1]/[CH;D2;+0:2]=[CH;D2;+0:3]\\[C:4])>>([C:1]-[C;H0;D2;+0:2]#[C;H0;D2;+0:3]-[C:4])\n",
      "RDChiralApplicator - WARNING - rdkit.Chem.rdchem.BondDir.NONE\n",
      "RDChiralApplicator - WARNING - Rdchiral rule applicator: Error running reactants for: ([C:5]/[C:4]=[C:3]/[C;H0;D3;+0:1](-[Cl;H0;D1;+0])=[O;D1;H0:2])>>(O-[C;H0;D3;+0:1](=[O;D1;H0:2])/[C:3]=[C:4]/[C:5])\n",
      "RDChiralApplicator - WARNING - rdkit.Chem.rdchem.BondDir.NONE\n",
      "RDChiralApplicator - WARNING - Rdchiral rule applicator: Error running reactants for: ([C:2]/[CH;D2;+0:1]=[CH;D2;+0:8]/[C:6](=[O;D1;H0:7])-[#8:5]-[C:4]-[C;D1;H3:3])>>(O=[CH;D2;+0:1]-[C:2]).([C;D1;H3:3]-[C:4]-[#8:5]-[C:6](=[O;D1;H0:7])-[CH;D2;+0:8]=P(-c1:c:c:c:c:c:1)(-c1:c:c:c:c:c:1)-c1:c:c:c:c:c:1)\n",
      "RDChiralApplicator - WARNING - rdkit.Chem.rdchem.BondDir.NONE\n",
      "RDChiralApplicator - WARNING - Rdchiral rule applicator: Error running reactants for: ([C:8]/[CH;D2;+0:7]=[CH;D2;+0:1]/[C:2](=[O;D1;H0:3])-[#8:4]-[C:5]-[C;D1;H3:6])>>(C-C-O-P(=O)(-O-C-C)-[CH2;D2;+0:1]-[C:2](=[O;D1;H0:3])-[#8:4]-[C:5]-[C;D1;H3:6]).(O=[CH;D2;+0:7]-[C:8])\n",
      "RDChiralApplicator - WARNING - rdkit.Chem.rdchem.BondDir.NONE\n",
      "RDChiralApplicator - WARNING - Rdchiral rule applicator: Error running reactants for: ([C:1]/[CH;D2;+0:2]=[CH;D2;+0:3]\\[C:4](=[O;D1;H0:5])-[#8:6]-[C:7]-[C;D1;H3:8])>>([C:1]-[C;H0;D2;+0:2]#[C;H0;D2;+0:3]-[C:4](=[O;D1;H0:5])-[#8:6]-[C:7]-[C;D1;H3:8])\n",
      "RDChiralApplicator - WARNING - rdkit.Chem.rdchem.BondDir.NONE\n",
      "RDChiralApplicator - WARNING - Rdchiral rule applicator: Error running reactants for: ([C:2]/[CH;D2;+0:1]=[CH;D2;+0:3]/[C:4](=[O;D1;H0:5])-[#8:6]-[C:7]-[C;D1;H3:8])>>(O-[CH;D3;+0:1](-[C:2])-[CH2;D2;+0:3]-[C:4](=[O;D1;H0:5])-[#8:6]-[C:7]-[C;D1;H3:8])\n",
      "RDChiralApplicator - WARNING - rdkit.Chem.rdchem.BondDir.NONE\n",
      "RDChiralApplicator - WARNING - Rdchiral rule applicator: Error running reactants for: ([C:2]/[CH;D2;+0:1]=[CH;D2;+0:5]/[C:4]=[O;D1;H0:3])>>(O=[CH;D2;+0:1]-[C:2]).([O;D1;H0:3]=[C:4]-[CH;D2;+0:5]=P(-c1:c:c:c:c:c:1)(-c1:c:c:c:c:c:1)-c1:c:c:c:c:c:1)\n",
      "RDChiralApplicator - WARNING - rdkit.Chem.rdchem.BondDir.NONE\n",
      "RDChiralApplicator - WARNING - Rdchiral rule applicator: Error running reactants for: ([#8:2]/[CH;D2;+0:1]=[CH;D2;+0:3]\\[C:4])>>(C=[CH;D2;+0:1]-[#8:2]).(C=[CH;D2;+0:3]-[C:4])\n",
      "RDChiralApplicator - WARNING - rdkit.Chem.rdchem.BondDir.NONE\n"
     ]
    }
   ],
   "source": [
    "from rbc2 import MCTS\n",
    "from rbc2 import get_expanders\n",
    "\n",
    "target_smi = 'CCCC=O'\n",
    "expanders = get_expanders(['retrobiocat', 'aizynthfinder'])\n",
    "mcts = MCTS(target_smi, expanders)\n",
    "mcts.config.max_search_time = 15  # only search for 15 seconds\n",
    "mcts.run()  "
   ]
  },
  {
   "cell_type": "code",
   "execution_count": 2,
   "id": "50e4a77f-fd22-4c89-9fa9-c2060b4081ad",
   "metadata": {},
   "outputs": [],
   "source": [
    "all_pathways = mcts.get_all_pathways()\n",
    "solved_pathways = mcts.get_solved_pathways()"
   ]
  },
  {
   "cell_type": "code",
   "execution_count": 3,
   "id": "e951a636-ff7a-4bba-bc62-2b5fb0d1e201",
   "metadata": {},
   "outputs": [
    {
     "name": "stdout",
     "output_type": "stream",
     "text": [
      "109\n"
     ]
    }
   ],
   "source": [
    "print(len(all_pathways))"
   ]
  },
  {
   "cell_type": "code",
   "execution_count": 4,
   "id": "2353b698-23be-488a-8c8b-ef91be71e8d1",
   "metadata": {},
   "outputs": [
    {
     "name": "stdout",
     "output_type": "stream",
     "text": [
      "44\n"
     ]
    }
   ],
   "source": [
    "print(len(solved_pathways))"
   ]
  },
  {
   "cell_type": "code",
   "execution_count": null,
   "id": "b8cd66bc-8d9a-4318-81be-ad08b3b628f0",
   "metadata": {},
   "outputs": [],
   "source": []
  }
 ],
 "metadata": {
  "kernelspec": {
   "display_name": "Python 3 (ipykernel)",
   "language": "python",
   "name": "python3"
  },
  "language_info": {
   "codemirror_mode": {
    "name": "ipython",
    "version": 3
   },
   "file_extension": ".py",
   "mimetype": "text/x-python",
   "name": "python",
   "nbconvert_exporter": "python",
   "pygments_lexer": "ipython3",
   "version": "3.9.18"
  }
 },
 "nbformat": 4,
 "nbformat_minor": 5
}
