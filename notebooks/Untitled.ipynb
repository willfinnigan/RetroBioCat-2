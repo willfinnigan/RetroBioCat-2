{
 "cells": [
  {
   "cell_type": "code",
   "execution_count": 5,
   "id": "800c91e2-b6ad-4358-87f8-e68e7955b527",
   "metadata": {},
   "outputs": [
    {
     "name": "stdout",
     "output_type": "stream",
     "text": [
      "CCCCO>>CCCC=O\n",
      "CCCC(=O)O>>CCCC=O\n",
      "CC=CC=O>>CCCC=O\n",
      "CCCCN>>CCCC=O\n",
      "CCCCN>>CCCC=O\n",
      "CCCC(O)C#N>>CCCC=O\n",
      "CCCC(=O)C(=O)O>>CCCC=O\n",
      "CCCC=N>>CCCC=O\n"
     ]
    }
   ],
   "source": [
    "from rbc2 import RetroBioCatExpander\n",
    "\n",
    "expander = RetroBioCatExpander()\n",
    "reactions = expander.get_reactions('CCCC=O')\n",
    "\n",
    "for rxn in reactions:\n",
    "    print(rxn.reaction_smiles())"
   ]
  }
 ],
 "metadata": {
  "kernelspec": {
   "display_name": "Python 3 (ipykernel)",
   "language": "python",
   "name": "python3"
  },
  "language_info": {
   "codemirror_mode": {
    "name": "ipython",
    "version": 3
   },
   "file_extension": ".py",
   "mimetype": "text/x-python",
   "name": "python",
   "nbconvert_exporter": "python",
   "pygments_lexer": "ipython3",
   "version": "3.11.7"
  }
 },
 "nbformat": 4,
 "nbformat_minor": 5
}
