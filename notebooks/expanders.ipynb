{
 "cells": [
  {
   "cell_type": "code",
   "execution_count": 1,
   "id": "db4b9d22-5ccf-427e-8824-b1cad80aafd8",
   "metadata": {},
   "outputs": [],
   "source": [
    "import rbc2"
   ]
  },
  {
   "cell_type": "code",
   "execution_count": 10,
   "id": "8f2d44e3-81b2-4811-9c34-9d95dfe86669",
   "metadata": {},
   "outputs": [
    {
     "name": "stdout",
     "output_type": "stream",
     "text": [
      "Reaction (retrobiocat): CCC=O>>CCCN\n",
      "Reaction (retrobiocat): CCC#N>>CCCN\n",
      "Reaction (retrobiocat): CCCNC(C)=O>>CCCN\n",
      "Reaction (retrobiocat): CCC(N)C(=O)O>>CCCN\n",
      "Reaction (retrobiocat): CCC=N>>CCCN\n"
     ]
    }
   ],
   "source": [
    "expander = rbc2.RetroBioCatExpander()\n",
    "\n",
    "reactions = expander.get_reactions('CCCN')\n",
    "for rxn in reactions[:5]:\n",
    "    print(rxn)"
   ]
  },
  {
   "cell_type": "code",
   "execution_count": 13,
   "id": "fb5dd2a1-8a3d-4361-8578-4f1bb5e57154",
   "metadata": {},
   "outputs": [
    {
     "name": "stderr",
     "output_type": "stream",
     "text": [
      "WARNING:absl:At this time, the v2.11+ optimizer `tf.keras.optimizers.Adam` runs slowly on M1/M2 Macs, please use the legacy Keras optimizer instead, located at `tf.keras.optimizers.legacy.Adam`.\n"
     ]
    },
    {
     "name": "stdout",
     "output_type": "stream",
     "text": [
      "Reaction (enzymemap): CCCNC(=O)CC[C@H](N)C(=O)O>>CCCN\n",
      "Reaction (enzymemap): CCCNS(=O)(=O)O>>CCCN\n",
      "Reaction (enzymemap): CCCNC(C)=O>>CCCN\n",
      "Reaction (enzymemap): CCC=O>>CCCN\n",
      "Reaction (enzymemap): CCCNC(N)=O>>CCCN\n"
     ]
    }
   ],
   "source": [
    "expander = rbc2.EnzymeMapExpander()\n",
    "\n",
    "reactions = expander.get_reactions('CCCN')\n",
    "for rxn in reactions[:5]:\n",
    "    print(rxn)"
   ]
  },
  {
   "cell_type": "code",
   "execution_count": 14,
   "id": "9be93674-3e68-47fa-b981-1947f7fbb111",
   "metadata": {},
   "outputs": [
    {
     "name": "stdout",
     "output_type": "stream",
     "text": [
      "WARNING:tensorflow:SavedModel saved prior to TF 2.5 detected when loading Keras model. Please ensure that you are saving the model with model.save() or tf.keras.models.save_model(), *NOT* tf.saved_model.save(). To confirm, there should be a file named \"keras_metadata.pb\" in the SavedModel directory.\n"
     ]
    },
    {
     "name": "stderr",
     "output_type": "stream",
     "text": [
      "WARNING:tensorflow:SavedModel saved prior to TF 2.5 detected when loading Keras model. Please ensure that you are saving the model with model.save() or tf.keras.models.save_model(), *NOT* tf.saved_model.save(). To confirm, there should be a file named \"keras_metadata.pb\" in the SavedModel directory.\n"
     ]
    },
    {
     "name": "stdout",
     "output_type": "stream",
     "text": [
      "WARNING:tensorflow:No training configuration found in save file, so the model was *not* compiled. Compile it manually.\n"
     ]
    },
    {
     "name": "stderr",
     "output_type": "stream",
     "text": [
      "WARNING:tensorflow:No training configuration found in save file, so the model was *not* compiled. Compile it manually.\n"
     ]
    },
    {
     "name": "stdout",
     "output_type": "stream",
     "text": [
      "Reaction (bkms): CC[C@H](N)C(=O)O>>CCCN\n",
      "Reaction (bkms): CCC=O>>CCCN\n",
      "Reaction (bkms): CCCNCC(=O)O>>CCCN\n",
      "Reaction (bkms): CCCNC(C)=O>>CCCN\n",
      "Reaction (bkms): CCCNC>>CCCN\n"
     ]
    }
   ],
   "source": [
    "expander = rbc2.BKMSExpander()\n",
    "\n",
    "reactions = expander.get_reactions('CCCN')\n",
    "for rxn in reactions[:5]:\n",
    "    print(rxn)"
   ]
  },
  {
   "cell_type": "code",
   "execution_count": 11,
   "id": "4a9b09f6-c0fa-4381-81a7-6e515f8558fd",
   "metadata": {},
   "outputs": [
    {
     "name": "stdout",
     "output_type": "stream",
     "text": [
      "Reaction (aizynthfinder): CCC#N>>CCCN\n",
      "Reaction (aizynthfinder): CCCN1C(=O)c2ccccc2C1=O>>CCCN\n",
      "Reaction (aizynthfinder): CCCN=[N+]=[N-]>>CCCN\n",
      "Reaction (aizynthfinder): CCCNC(=O)OC(C)(C)C>>CCCN\n",
      "Reaction (aizynthfinder): CCCNC(=O)OCc1ccccc1>>CCCN\n"
     ]
    }
   ],
   "source": [
    "expander = rbc2.AIZynthfinderExpander()\n",
    "\n",
    "reactions = expander.get_reactions('CCCN')\n",
    "for rxn in reactions[:5]:\n",
    "    print(rxn)"
   ]
  },
  {
   "cell_type": "code",
   "execution_count": 12,
   "id": "52b10b06-6e77-4600-ba5c-be5278f87ce4",
   "metadata": {},
   "outputs": [
    {
     "name": "stdout",
     "output_type": "stream",
     "text": [
      "WARNING:tensorflow:SavedModel saved prior to TF 2.5 detected when loading Keras model. Please ensure that you are saving the model with model.save() or tf.keras.models.save_model(), *NOT* tf.saved_model.save(). To confirm, there should be a file named \"keras_metadata.pb\" in the SavedModel directory.\n",
      "WARNING:tensorflow:No training configuration found in save file, so the model was *not* compiled. Compile it manually.\n"
     ]
    },
    {
     "name": "stderr",
     "output_type": "stream",
     "text": [
      "WARNING:tensorflow:No training configuration found in save file, so the model was *not* compiled. Compile it manually.\n"
     ]
    },
    {
     "name": "stdout",
     "output_type": "stream",
     "text": [
      "Reaction (askcos): CCC#N>>CCCN\n",
      "Reaction (askcos): CCC(N)=O>>CCCN\n",
      "Reaction (askcos): CCCO>>CCCN\n",
      "Reaction (askcos): CCCN1C(=O)c2ccccc2C1=O>>CCCN\n",
      "Reaction (askcos): CCC=O>>CCCN\n"
     ]
    }
   ],
   "source": [
    "expander = rbc2.AskcosPolicyExpander()\n",
    "\n",
    "reactions = expander.get_reactions('CCCN')\n",
    "for rxn in reactions[:5]:\n",
    "    print(rxn)"
   ]
  },
  {
   "cell_type": "code",
   "execution_count": null,
   "id": "a5a0c3de-4a78-4bee-bbc8-1f69c49a4138",
   "metadata": {},
   "outputs": [],
   "source": []
  }
 ],
 "metadata": {
  "kernelspec": {
   "display_name": "Python 3 (ipykernel)",
   "language": "python",
   "name": "python3"
  },
  "language_info": {
   "codemirror_mode": {
    "name": "ipython",
    "version": 3
   },
   "file_extension": ".py",
   "mimetype": "text/x-python",
   "name": "python",
   "nbconvert_exporter": "python",
   "pygments_lexer": "ipython3",
   "version": "3.9.18"
  }
 },
 "nbformat": 4,
 "nbformat_minor": 5
}
